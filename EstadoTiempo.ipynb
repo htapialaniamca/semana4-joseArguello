{
 "cells": [
  {
   "cell_type": "code",
   "execution_count": 1,
   "metadata": {},
   "outputs": [],
   "source": [
    "#Importar la libreria\n",
    "import android\n",
    "droide = android.Android()\n",
    "import urllib\n",
    "import datetime\n",
    "import sys\n",
    "reload(sys)\n",
    "sys.setdefaultencoding('utf8')"
   ]
  },
  {
   "cell_type": "code",
   "execution_count": 2,
   "metadata": {},
   "outputs": [
    {
     "ename": "TypeError",
     "evalue": "'NoneType' object has no attribute '__getitem__'",
     "output_type": "error",
     "traceback": [
      "\u001b[1;31m\u001b[0m",
      "\u001b[1;31mTypeError\u001b[0mTraceback (most recent call last)",
      "\u001b[1;32m<ipython-input-2-26c3c9764563>\u001b[0m in \u001b[0;36m<module>\u001b[1;34m()\u001b[0m\n\u001b[0;32m     18\u001b[0m \u001b[0mdireccion\u001b[0m \u001b[1;33m=\u001b[0m \u001b[0mdroide\u001b[0m\u001b[1;33m.\u001b[0m\u001b[0mgeocode\u001b[0m\u001b[1;33m(\u001b[0m\u001b[0mlat\u001b[0m\u001b[1;33m,\u001b[0m\u001b[0mlon\u001b[0m\u001b[1;33m)\u001b[0m\u001b[1;33m\u001b[0m\u001b[0m\n\u001b[0;32m     19\u001b[0m \u001b[1;31m#como se encuentra en un arrey debemos de selecionar la posicion y despues lo que vamos a buscar\u001b[0m\u001b[1;33m\u001b[0m\u001b[1;33m\u001b[0m\u001b[0m\n\u001b[1;32m---> 20\u001b[1;33m \u001b[0mcp\u001b[0m \u001b[1;33m=\u001b[0m \u001b[0mdireccion\u001b[0m\u001b[1;33m.\u001b[0m\u001b[0mresult\u001b[0m\u001b[1;33m[\u001b[0m\u001b[1;36m0\u001b[0m\u001b[1;33m]\u001b[0m\u001b[1;33m[\u001b[0m\u001b[1;34m'postal_code'\u001b[0m\u001b[1;33m]\u001b[0m\u001b[1;33m\u001b[0m\u001b[0m\n\u001b[0m\u001b[0;32m     21\u001b[0m \u001b[0mpais\u001b[0m \u001b[1;33m=\u001b[0m \u001b[0mdireccion\u001b[0m\u001b[1;33m.\u001b[0m\u001b[0mresult\u001b[0m\u001b[1;33m[\u001b[0m\u001b[1;36m0\u001b[0m\u001b[1;33m]\u001b[0m\u001b[1;33m[\u001b[0m\u001b[1;34m'country_code'\u001b[0m\u001b[1;33m]\u001b[0m\u001b[1;33m\u001b[0m\u001b[0m\n\u001b[0;32m     22\u001b[0m \u001b[0mdirec\u001b[0m \u001b[1;33m=\u001b[0m \u001b[0mdireccion\u001b[0m\u001b[1;33m.\u001b[0m\u001b[0mresult\u001b[0m\u001b[1;33m[\u001b[0m\u001b[1;36m0\u001b[0m\u001b[1;33m]\u001b[0m\u001b[1;33m[\u001b[0m\u001b[1;34mu'thoroughfare'\u001b[0m\u001b[1;33m]\u001b[0m\u001b[1;33m\u001b[0m\u001b[0m\n",
      "\u001b[1;31mTypeError\u001b[0m: 'NoneType' object has no attribute '__getitem__'"
     ]
    }
   ],
   "source": [
    "#Preguntar que primero busque la localizacion del gps y despues de la red\n",
    "droide.getLastKnownLocation().result\n",
    "droide.startLocating()\n",
    "loc = droide.getLastKnownLocation().result\n",
    "if loc[\"gps\"] is not None:\n",
    "    loc = loc[\"gps\"]\n",
    "else:\n",
    "    loc = loc[\"network\"]\n",
    "#print loc\n",
    "lat = loc[\"latitude\"]\n",
    "lon = loc[\"longitude\"]\n",
    "tim = loc[\"time\"]\n",
    "date = datetime.datetime.fromtimestamp(tim/1e3)\n",
    "\n",
    "\n",
    "#lon = loc[\"longitud\"]\n",
    "#obtener la direcccioón exacta\n",
    "direccion = droide.geocode(lat,lon)\n",
    "#como se encuentra en un arrey debemos de selecionar la posicion y despues lo que vamos a buscar\n",
    "cp = direccion.result[0]['postal_code']\n",
    "pais = direccion.result[0]['country_code']\n",
    "direc = direccion.result[0][u'thoroughfare']\n",
    "direc = direc.encode('ascii', 'ignore').decode('ascii')\n",
    "estado = direccion.result[0]['admin_area']\n",
    "localidad = direccion.result[0]['locality']\n",
    "#localidad=Charset.forName(\"UTF-8\").encode(localidad)\n",
    "localidad =(direccion.result[0]['locality']).encode(encoding=\"utf-8\")\n",
    "localidad = localidad.encode('ascii', 'ignore').decode('ascii')\n",
    "\n",
    "#OBTENER ESTADO DEL CLIMA\n",
    "#obtener con la ip el estado del clima API obtenida de interet\n",
    "url =\"http://samples.openweathermap.org/data/2.5/weather?zip={0},{1}&appid=b6907d289e10d714a6e88b30761fae22\".format(cp,pais)"
   ]
  },
  {
   "cell_type": "code",
   "execution_count": null,
   "metadata": {},
   "outputs": [],
   "source": [
    "localidad"
   ]
  },
  {
   "cell_type": "code",
   "execution_count": 26,
   "metadata": {},
   "outputs": [],
   "source": [
    "import requests\n",
    "r=requests.get(url).json()\n",
    "wdesc=r[\"weather\"][0][\"description\"]"
   ]
  },
  {
   "cell_type": "code",
   "execution_count": 27,
   "metadata": {},
   "outputs": [],
   "source": [
    "localidad = localidad.encode('ascii', 'ignore').decode('ascii')\n",
    "print localidad"
   ]
  },
  {
   "cell_type": "code",
   "execution_count": 28,
   "metadata": {},
   "outputs": [],
   "source": [
    "mensaje=\"En la ciudad de u{0}, siendo las {1} horas en la calle de {2} , el estado del tiempo es {3}\".format(localidad,date,direc,wdesc)\n",
    "print mensaje"
   ]
  },
  {
   "cell_type": "code",
   "execution_count": 31,
   "metadata": {},
   "outputs": [
    {
     "data": {
      "text/plain": [
       "Result(id=19, result=None, error=None)"
      ]
     },
     "execution_count": 31,
     "metadata": {},
     "output_type": "execute_result"
    }
   ],
   "source": [
    "droide.ttsSpeak(mensaje)"
   ]
  },
  {
   "cell_type": "code",
   "execution_count": 32,
   "metadata": {},
   "outputs": [
    {
     "data": {
      "text/plain": [
       "u'light rain'"
      ]
     },
     "execution_count": 32,
     "metadata": {},
     "output_type": "execute_result"
    }
   ],
   "source": [
    "wdesc"
   ]
  },
  {
   "cell_type": "code",
   "execution_count": null,
   "metadata": {},
   "outputs": [],
   "source": []
  }
 ],
 "metadata": {
  "kernelspec": {
   "display_name": "Python 2",
   "language": "python",
   "name": "python2"
  },
  "language_info": {
   "codemirror_mode": {
    "name": "ipython",
    "version": 2
   },
   "file_extension": ".py",
   "mimetype": "text/x-python",
   "name": "python",
   "nbconvert_exporter": "python",
   "pygments_lexer": "ipython2",
   "version": "2.7.14"
  }
 },
 "nbformat": 4,
 "nbformat_minor": 2
}
