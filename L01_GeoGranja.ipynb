{
 "cells": [
  {
   "cell_type": "markdown",
   "metadata": {},
   "source": [
    "# Definiendo una geogranja\n",
    "\n",
    "En esta libreta crearemos una aplicacion que defina una region geografica y veremos como reaccionar ante eventos de localizacion: cuando el dispositivo salga de la region definida, la geogranja, se emite un mensaje y se registra que se salio de la region. Cuando entramos nuevamente a la region se notifica y se registra la entrada."
   ]
  },
  {
   "cell_type": "code",
   "execution_count": 4,
   "metadata": {},
   "outputs": [],
   "source": [
    "# import android\n",
    "import android"
   ]
  },
  {
   "cell_type": "code",
   "execution_count": 5,
   "metadata": {},
   "outputs": [
    {
     "name": "stdout",
     "output_type": "stream",
     "text": [
      "List of devices attached\n",
      "9885e6423558303254\tdevice\n",
      "\n"
     ]
    }
   ],
   "source": [
    "!adb devices"
   ]
  },
  {
   "cell_type": "code",
   "execution_count": 6,
   "metadata": {},
   "outputs": [],
   "source": [
    "!adb forward tcp:9999 tcp:2222"
   ]
  },
  {
   "cell_type": "code",
   "execution_count": 7,
   "metadata": {},
   "outputs": [
    {
     "data": {
      "text/plain": [
       "Result(id=0, result=None, error=None)"
      ]
     },
     "execution_count": 7,
     "metadata": {},
     "output_type": "execute_result"
    }
   ],
   "source": [
    "droid = android.Android() #[\"192.168.100.74\",\"2222\"])\n",
    "droid.ttsSpeak(\"listo para recibir instrucciones\")"
   ]
  },
  {
   "cell_type": "code",
   "execution_count": 8,
   "metadata": {},
   "outputs": [
    {
     "ename": "NameError",
     "evalue": "name 'datetime' is not defined",
     "output_type": "error",
     "traceback": [
      "\u001b[1;31m\u001b[0m",
      "\u001b[1;31mNameError\u001b[0mTraceback (most recent call last)",
      "\u001b[1;32m<ipython-input-8-ea3ce2f305ec>\u001b[0m in \u001b[0;36m<module>\u001b[1;34m()\u001b[0m\n\u001b[0;32m      4\u001b[0m \u001b[0mprov\u001b[0m \u001b[1;33m=\u001b[0m \u001b[1;34m'-'\u001b[0m\u001b[1;33m\u001b[0m\u001b[0m\n\u001b[0;32m      5\u001b[0m \u001b[0mnewLoc\u001b[0m \u001b[1;33m=\u001b[0m \u001b[0mFalse\u001b[0m\u001b[1;33m\u001b[0m\u001b[0m\n\u001b[1;32m----> 6\u001b[1;33m \u001b[0mcurTime\u001b[0m \u001b[1;33m=\u001b[0m \u001b[0mdatetime\u001b[0m\u001b[1;33m.\u001b[0m\u001b[0mdatetime\u001b[0m\u001b[1;33m.\u001b[0m\u001b[0mnow\u001b[0m\u001b[1;33m(\u001b[0m\u001b[1;33m)\u001b[0m\u001b[1;33m.\u001b[0m\u001b[0mstrftime\u001b[0m\u001b[1;33m(\u001b[0m\u001b[1;34m'%Y-%m-%d %H:%M:%S'\u001b[0m\u001b[1;33m)\u001b[0m\u001b[1;33m\u001b[0m\u001b[0m\n\u001b[0m\u001b[0;32m      7\u001b[0m \u001b[1;34m\"{0}, {1}, {2}, {3}, {4}, {5}\\n\"\u001b[0m\u001b[1;33m.\u001b[0m\u001b[0mformat\u001b[0m\u001b[1;33m(\u001b[0m\u001b[0mcurTime\u001b[0m\u001b[1;33m,\u001b[0m \u001b[0mlat1\u001b[0m\u001b[1;33m,\u001b[0m \u001b[0mlon1\u001b[0m\u001b[1;33m,\u001b[0m \u001b[0mhd\u001b[0m\u001b[1;33m,\u001b[0m \u001b[0mprov\u001b[0m\u001b[1;33m,\u001b[0m \u001b[0mnewLoc\u001b[0m\u001b[1;33m)\u001b[0m\u001b[1;33m\u001b[0m\u001b[0m\n",
      "\u001b[1;31mNameError\u001b[0m: name 'datetime' is not defined"
     ]
    }
   ],
   "source": [
    "lat1 = 19.5197093\n",
    "lon1 = -96.9155696\n",
    "hd = 0\n",
    "prov = '-'\n",
    "newLoc = False\n",
    "curTime = datetime.datetime.now().strftime('%Y-%m-%d %H:%M:%S')\n",
    "\"{0}, {1}, {2}, {3}, {4}, {5}\\n\".format(curTime, lat1, lon1, hd, prov, newLoc)"
   ]
  },
  {
   "cell_type": "code",
   "execution_count": 9,
   "metadata": {},
   "outputs": [
    {
     "name": "stdout",
     "output_type": "stream",
     "text": [
      "Overwriting granja.py\n"
     ]
    }
   ],
   "source": [
    "%%file granja.py\n",
    "import android\n",
    "import datetime, time\n",
    "from haversine import *\n",
    "droid = android.Android()\n",
    "\n",
    "logName = 'locationLog-'+datetime.datetime.now().strftime(\"%Y%m%d-%H%M%S\")\n",
    "localLog = '/sdcard/sl4a/scripts/RySI/'+logName+'.txt'\n",
    "\n",
    "logHeader = \"Time, Latitude, Longitude, Distance, Provider\\n\"\n",
    "\n",
    "lat1 = 19.5197093\n",
    "lon1 = -96.9155696\n",
    "hd = haversine(lat1, lon1, lat1, lon1)\n",
    "prov = '-'\n",
    "\n",
    "droid.wakeLockAcquirePartial()\n",
    "droid.startLocating()\n",
    "time.sleep(15)\n",
    "\n",
    "with open(localLog, 'a') as logFile:\n",
    "    logFile.write(logHeader)\n",
    "    curTime = datetime.datetime.now().strftime('%Y-%m-%d %H:%M:%S')\n",
    "    logFile.write(\"{0}, {1}, {2}, {3}, {4}, {5}\\n\".format(curTime, lat1, lon1, hd, prov, '-'))\n",
    "    \n",
    "    while True:\n",
    "        loc = droid.readLocation().result\n",
    "        if loc == {}:\n",
    "            loc = droid.getLastKnownLocation().result\n",
    "            newLoc = False\n",
    "        if loc != {}:\n",
    "            newLoc = True\n",
    "            try:\n",
    "                prov = 'gps'\n",
    "                n = loc[prov]                \n",
    "            except KeyError:\n",
    "                prov = 'network'\n",
    "                n = loc[prov]\n",
    "            \n",
    "        la = n['latitude']\n",
    "        lo = n['longitude']\n",
    "        ts = n['time']\n",
    "        t = datetime.datetime.fromtimestamp(ts/1e3).strftime('%H:%M:%S')\n",
    "        \n",
    "        hd = haversine(la, lo, lat1, lon1)\n",
    "        time.sleep(10)\n",
    "        \n",
    "        logLine = \"{0}, {1}, {2}, {3}, {4}, {5}\\n\".format(t, lat1, lon1, hd, prov, newLoc)\n",
    "        logFile.write(logLine)\n",
    "        logFile.flush()\n",
    "        \n",
    "        print \"{0}, {1}, {2}, {3}\".format(t, hd, prov, newLoc)\n",
    "            \n",
    "        if hd > .1:\n",
    "            droid.toggleRingerSilentMode(True)\n",
    "            droid.vibrate(1000)\n",
    "            droid.ttsSpeak(\"Dejando geocerca\")\n",
    "        else:\n",
    "            droid.toggleRingerSilentMode(False)\n",
    "    \n",
    "    logFile.close()\n"
   ]
  },
  {
   "cell_type": "code",
   "execution_count": 10,
   "metadata": {},
   "outputs": [
    {
     "name": "stdout",
     "output_type": "stream",
     "text": [
      "Overwriting haversine.py\n"
     ]
    }
   ],
   "source": [
    "%%file haversine.py\n",
    "# haversine function to get distance\n",
    "\n",
    "from math import * \n",
    " \n",
    "def haversine(lon1, lat1, lon2, lat2):\n",
    "    \"\"\"     \n",
    "    Calculate the great circle distance between two points      \n",
    "    on the earth (specified in decimal degrees)     \n",
    "    \"\"\"     \n",
    "    # convert decimal degrees to radians      \n",
    "    lon1, lat1, lon2, lat2 = map(radians, [lon1, lat1, lon2, lat2])     \n",
    "    # haversine formula      \n",
    "    dlon = lon2 - lon1      \n",
    "    dlat = lat2 - lat1 \n",
    "    a = sin(dlat/2)**2 + cos(lat1) * cos(lat2) * sin(dlon/2)**2     \n",
    "    c = 2 * atan2(sqrt(a), sqrt(1-a))      \n",
    "    km = 6367 * c    \n",
    "    return km  "
   ]
  },
  {
   "cell_type": "code",
   "execution_count": 11,
   "metadata": {},
   "outputs": [
    {
     "name": "stdout",
     "output_type": "stream",
     "text": [
      "[100%] /sdcard/sl4a/scripts/RySI/haversine.py\n",
      "haversine.py: 1 file pushed. 0.0 MB/s (613 bytes in 0.060s)\n"
     ]
    }
   ],
   "source": [
    "!adb push haversine.py /sdcard/sl4a/scripts/RySI"
   ]
  },
  {
   "cell_type": "code",
   "execution_count": 12,
   "metadata": {},
   "outputs": [
    {
     "name": "stdout",
     "output_type": "stream",
     "text": [
      "[100%] /sdcard/sl4a/scripts/RySI/granja.py\n",
      "granja.py: 1 file pushed. 0.3 MB/s (1836 bytes in 0.005s)\n"
     ]
    }
   ],
   "source": [
    "!adb push granja.py /sdcard/sl4a/scripts/RySI"
   ]
  },
  {
   "cell_type": "code",
   "execution_count": null,
   "metadata": {},
   "outputs": [],
   "source": []
  }
 ],
 "metadata": {
  "anaconda-cloud": {},
  "kernelspec": {
   "display_name": "Python 2",
   "language": "python",
   "name": "python2"
  },
  "language_info": {
   "codemirror_mode": {
    "name": "ipython",
    "version": 2
   },
   "file_extension": ".py",
   "mimetype": "text/x-python",
   "name": "python",
   "nbconvert_exporter": "python",
   "pygments_lexer": "ipython2",
   "version": "2.7.14"
  }
 },
 "nbformat": 4,
 "nbformat_minor": 2
}
