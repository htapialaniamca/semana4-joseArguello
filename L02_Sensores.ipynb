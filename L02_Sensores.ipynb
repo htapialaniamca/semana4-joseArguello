{
 "cells": [
  {
   "cell_type": "markdown",
   "metadata": {},
   "source": [
    "Ahora conoceremos un poco mas de los sensores en nuestro dispositivo y exploraremos\n",
    "la fachada de sensores o SensorManagerFacade"
   ]
  },
  {
   "cell_type": "code",
   "execution_count": 64,
   "metadata": {},
   "outputs": [],
   "source": [
    "!adb kill-server"
   ]
  },
  {
   "cell_type": "code",
   "execution_count": 117,
   "metadata": {},
   "outputs": [
    {
     "name": "stdout",
     "output_type": "stream",
     "text": [
      "List of devices attached\n",
      "9885e6423558303254\tdevice\n",
      "\n"
     ]
    }
   ],
   "source": [
    "!adb devices"
   ]
  },
  {
   "cell_type": "code",
   "execution_count": 118,
   "metadata": {},
   "outputs": [],
   "source": [
    "!adb forward tcp:9999 tcp:2222"
   ]
  },
  {
   "cell_type": "code",
   "execution_count": 2,
   "metadata": {},
   "outputs": [],
   "source": [
    "import android\n",
    "# invocar la clase android\n",
    "droide = android.Android()"
   ]
  },
  {
   "cell_type": "code",
   "execution_count": null,
   "metadata": {},
   "outputs": [],
   "source": []
  },
  {
   "cell_type": "code",
   "execution_count": 114,
   "metadata": {},
   "outputs": [
    {
     "data": {
      "text/plain": [
       "Result(id=17, result=None, error=None)"
      ]
     },
     "execution_count": 114,
     "metadata": {},
     "output_type": "execute_result"
    }
   ],
   "source": [
    "droide.startSensingTimed(1,250)"
   ]
  },
  {
   "cell_type": "code",
   "execution_count": 115,
   "metadata": {},
   "outputs": [
    {
     "data": {
      "text/plain": [
       "{}"
      ]
     },
     "execution_count": 115,
     "metadata": {},
     "output_type": "execute_result"
    }
   ],
   "source": [
    "droide.readSensors().result\n",
    "#droide.stopSensing()"
   ]
  },
  {
   "cell_type": "code",
   "execution_count": 111,
   "metadata": {},
   "outputs": [
    {
     "data": {
      "text/plain": [
       "Result(id=14, result=3, error=None)"
      ]
     },
     "execution_count": 111,
     "metadata": {},
     "output_type": "execute_result"
    }
   ],
   "source": [
    "droide.sensorsGetAccuracy()"
   ]
  },
  {
   "cell_type": "code",
   "execution_count": 106,
   "metadata": {},
   "outputs": [],
   "source": [
    "droide.sensorsGetLight().result"
   ]
  },
  {
   "cell_type": "code",
   "execution_count": 107,
   "metadata": {},
   "outputs": [
    {
     "data": {
      "text/plain": [
       "[-0.13647367, -0.102953814, 9.624985]"
      ]
     },
     "execution_count": 107,
     "metadata": {},
     "output_type": "execute_result"
    }
   ],
   "source": [
    "droide.sensorsReadAccelerometer().result"
   ]
  },
  {
   "cell_type": "code",
   "execution_count": 108,
   "metadata": {},
   "outputs": [
    {
     "data": {
      "text/plain": [
       "[None, None, None]"
      ]
     },
     "execution_count": 108,
     "metadata": {},
     "output_type": "execute_result"
    }
   ],
   "source": [
    "droide.sensorsReadOrientation().result"
   ]
  },
  {
   "cell_type": "code",
   "execution_count": 109,
   "metadata": {},
   "outputs": [
    {
     "data": {
      "text/plain": [
       "Result(id=12, result=None, error=None)"
      ]
     },
     "execution_count": 109,
     "metadata": {},
     "output_type": "execute_result"
    }
   ],
   "source": [
    "droide.stopSensing()"
   ]
  },
  {
   "cell_type": "code",
   "execution_count": 123,
   "metadata": {},
   "outputs": [
    {
     "data": {
      "text/plain": [
       "Result(id=3, result=None, error=None)"
      ]
     },
     "execution_count": 123,
     "metadata": {},
     "output_type": "execute_result"
    }
   ],
   "source": [
    "droide.readSignalStrengths()"
   ]
  },
  {
   "cell_type": "code",
   "execution_count": 128,
   "metadata": {},
   "outputs": [
    {
     "data": {
      "text/plain": [
       "True"
      ]
     },
     "execution_count": 128,
     "metadata": {},
     "output_type": "execute_result"
    }
   ],
   "source": [
    "#Verificar si el wifi estatus\n",
    "droide.checkWifiState().result"
   ]
  },
  {
   "cell_type": "code",
   "execution_count": 127,
   "metadata": {},
   "outputs": [
    {
     "data": {
      "text/plain": [
       "True"
      ]
     },
     "execution_count": 127,
     "metadata": {},
     "output_type": "execute_result"
    }
   ],
   "source": [
    "#Apagar o encender el wifi\n",
    "droide.toggleWifiState().result"
   ]
  },
  {
   "cell_type": "code",
   "execution_count": 130,
   "metadata": {},
   "outputs": [
    {
     "data": {
      "text/plain": [
       "[{u'bssid': u'fc:99:47:2a:ed:c0',\n",
       "  u'capabilities': u'[WPA2-PSK-CCMP][WPS][ESS]',\n",
       "  u'frequency': 2412,\n",
       "  u'level': -47,\n",
       "  u'ssid': u'Admin'},\n",
       " {u'bssid': u'fc:99:47:2a:ed:c4',\n",
       "  u'capabilities': u'[WPA-PSK-CCMP+TKIP][WPA2-PSK-CCMP+TKIP][ESS]',\n",
       "  u'frequency': 2412,\n",
       "  u'level': -48,\n",
       "  u'ssid': u'DCI'},\n",
       " {u'bssid': u'fc:99:47:2a:ed:c1',\n",
       "  u'capabilities': u'[WPA-PSK-CCMP+TKIP][WPA2-PSK-CCMP+TKIP][ESS]',\n",
       "  u'frequency': 2412,\n",
       "  u'level': -48,\n",
       "  u'ssid': u'WiFiLANIA'},\n",
       " {u'bssid': u'fc:99:47:2a:ed:c2',\n",
       "  u'capabilities': u'[WPA-PSK-CCMP+TKIP][WPA2-PSK-CCMP+TKIP][ESS]',\n",
       "  u'frequency': 2412,\n",
       "  u'level': -49,\n",
       "  u'ssid': u'EduLANIA'},\n",
       " {u'bssid': u'fc:99:47:2a:ed:c3',\n",
       "  u'capabilities': u'[WPA-PSK-CCMP+TKIP][WPA2-PSK-CCMP+TKIP][ESS]',\n",
       "  u'frequency': 2412,\n",
       "  u'level': -49,\n",
       "  u'ssid': u'PubliLANIA'},\n",
       " {u'bssid': u'fc:99:47:2a:ed:c6',\n",
       "  u'capabilities': u'[WPA2-PSK-CCMP+TKIP][ESS]',\n",
       "  u'frequency': 2412,\n",
       "  u'level': -49,\n",
       "  u'ssid': u'ILANIA'},\n",
       " {u'bssid': u'f4:de:0c:66:be:99',\n",
       "  u'capabilities': u'[WPA2-PSK-CCMP][WPS][ESS][BLE]',\n",
       "  u'frequency': 2437,\n",
       "  u'level': -83,\n",
       "  u'ssid': u'INFINITUM6FFD_2.4'},\n",
       " {u'bssid': u'68:cc:6e:f2:e6:f4',\n",
       "  u'capabilities': u'[WPA-PSK-CCMP+TKIP][WPA2-PSK-CCMP+TKIP][ESS][BLE]',\n",
       "  u'frequency': 2462,\n",
       "  u'level': -85,\n",
       "  u'ssid': u'Totalplay-599A'}]"
      ]
     },
     "execution_count": 130,
     "metadata": {},
     "output_type": "execute_result"
    }
   ],
   "source": [
    "#Ver las redes que se encuentran en el rango de wifi\n",
    "droide.wifiGetScanResults().result"
   ]
  },
  {
   "cell_type": "code",
   "execution_count": 131,
   "metadata": {},
   "outputs": [
    {
     "data": {
      "text/plain": [
       "True"
      ]
     },
     "execution_count": 131,
     "metadata": {},
     "output_type": "execute_result"
    }
   ],
   "source": [
    "droide.wifiStartScan().result"
   ]
  },
  {
   "cell_type": "code",
   "execution_count": 132,
   "metadata": {},
   "outputs": [
    {
     "data": {
      "text/plain": [
       "{u'bssid': u'fc:99:47:2a:ed:c2',\n",
       " u'hidden_ssid': False,\n",
       " u'ip_address': -1324308288,\n",
       " u'link_speed': 72,\n",
       " u'mac_address': u'02:00:00:00:00:00',\n",
       " u'network_id': 2,\n",
       " u'rssi': -46,\n",
       " u'ssid': u'\"EduLANIA\"',\n",
       " u'supplicant_state': u'completed'}"
      ]
     },
     "execution_count": 132,
     "metadata": {},
     "output_type": "execute_result"
    }
   ],
   "source": [
    "#obtener la red de la wifi a la que estoy conectando\n",
    "droide.wifiGetConnectionInfo().result"
   ]
  },
  {
   "cell_type": "markdown",
   "metadata": {},
   "source": [
    "## WakeLockFacade"
   ]
  },
  {
   "cell_type": "code",
   "execution_count": 135,
   "metadata": {},
   "outputs": [],
   "source": [
    "droide.wakeLockAcquireDim().result"
   ]
  },
  {
   "cell_type": "markdown",
   "metadata": {},
   "source": [
    "## Setting"
   ]
  },
  {
   "cell_type": "code",
   "execution_count": 136,
   "metadata": {},
   "outputs": [
    {
     "data": {
      "text/plain": [
       "Result(id=16, result=False, error=None)"
      ]
     },
     "execution_count": 136,
     "metadata": {},
     "output_type": "execute_result"
    }
   ],
   "source": [
    "droide.checkAirplaneMode()"
   ]
  },
  {
   "cell_type": "code",
   "execution_count": 137,
   "metadata": {},
   "outputs": [
    {
     "data": {
      "text/plain": [
       "True"
      ]
     },
     "execution_count": 137,
     "metadata": {},
     "output_type": "execute_result"
    }
   ],
   "source": [
    "droide.checkScreenOn().result"
   ]
  },
  {
   "cell_type": "code",
   "execution_count": 143,
   "metadata": {},
   "outputs": [
    {
     "data": {
      "text/plain": [
       "10"
      ]
     },
     "execution_count": 143,
     "metadata": {},
     "output_type": "execute_result"
    }
   ],
   "source": [
    "#volumen\n",
    "droide.getMediaVolume().result"
   ]
  },
  {
   "cell_type": "code",
   "execution_count": 142,
   "metadata": {},
   "outputs": [
    {
     "data": {
      "text/plain": [
       "Result(id=22, result=None, error=None)"
      ]
     },
     "execution_count": 142,
     "metadata": {},
     "output_type": "execute_result"
    }
   ],
   "source": [
    "#cambiar el valos del volumen en el telefono\n",
    "droide.setMediaVolume(10)"
   ]
  },
  {
   "cell_type": "code",
   "execution_count": 141,
   "metadata": {},
   "outputs": [
    {
     "data": {
      "text/plain": [
       "15"
      ]
     },
     "execution_count": 141,
     "metadata": {},
     "output_type": "execute_result"
    }
   ],
   "source": [
    "#saber el maximo de volumen de un telefono\n",
    "droide.getMaxMediaVolume().result"
   ]
  },
  {
   "cell_type": "code",
   "execution_count": 144,
   "metadata": {},
   "outputs": [
    {
     "data": {
      "text/plain": [
       "15"
      ]
     },
     "execution_count": 144,
     "metadata": {},
     "output_type": "execute_result"
    }
   ],
   "source": [
    "#Maximo volumen cuando suena el telefono\n",
    "droide.getMaxRingerVolume().result"
   ]
  },
  {
   "cell_type": "code",
   "execution_count": 147,
   "metadata": {},
   "outputs": [
    {
     "data": {
      "text/plain": [
       "9"
      ]
     },
     "execution_count": 147,
     "metadata": {},
     "output_type": "execute_result"
    }
   ],
   "source": [
    "#volumen cuando suena el telefono\n",
    "droide.getRingerVolume().result"
   ]
  },
  {
   "cell_type": "code",
   "execution_count": 146,
   "metadata": {},
   "outputs": [
    {
     "data": {
      "text/plain": [
       "Result(id=26, result=None, error=None)"
      ]
     },
     "execution_count": 146,
     "metadata": {},
     "output_type": "execute_result"
    }
   ],
   "source": [
    "#Cambiar valor\n",
    "droide.setRingerVolume(9)"
   ]
  },
  {
   "cell_type": "code",
   "execution_count": 154,
   "metadata": {},
   "outputs": [
    {
     "name": "stdout",
     "output_type": "stream",
     "text": [
      "java.lang.NullPointerException: Attempt to invoke virtual method 'boolean java.lang.Boolean.booleanValue()' on a null object reference\n"
     ]
    }
   ],
   "source": [
    "droide.toggleVibrateMode().result"
   ]
  },
  {
   "cell_type": "code",
   "execution_count": 158,
   "metadata": {},
   "outputs": [
    {
     "data": {
      "text/plain": [
       "255"
      ]
     },
     "execution_count": 158,
     "metadata": {},
     "output_type": "execute_result"
    }
   ],
   "source": [
    "#pantalla screen controlar el brillo\n",
    "droide.getScreenBrightness().result"
   ]
  },
  {
   "cell_type": "code",
   "execution_count": 162,
   "metadata": {},
   "outputs": [
    {
     "data": {
      "text/plain": [
       "Result(id=41, result=125, error=None)"
      ]
     },
     "execution_count": 162,
     "metadata": {},
     "output_type": "execute_result"
    }
   ],
   "source": [
    "#Modificar el brillo de la pantalla\n",
    "droide.setScreenBrightness(125)"
   ]
  },
  {
   "cell_type": "markdown",
   "metadata": {},
   "source": [
    "## Localizacion"
   ]
  },
  {
   "cell_type": "code",
   "execution_count": 3,
   "metadata": {},
   "outputs": [
    {
     "data": {
      "text/plain": [
       "Result(id=0, result=None, error=None)"
      ]
     },
     "execution_count": 3,
     "metadata": {},
     "output_type": "execute_result"
    }
   ],
   "source": [
    "#empezar a recibir la informacion de localizacion\n",
    "import time\n",
    "droide.startLocating()\n",
    "#time.sleep(15)"
   ]
  },
  {
   "cell_type": "code",
   "execution_count": 4,
   "metadata": {},
   "outputs": [],
   "source": [
    "loc = droide.readLocation().result"
   ]
  },
  {
   "cell_type": "code",
   "execution_count": 5,
   "metadata": {},
   "outputs": [
    {
     "ename": "KeyError",
     "evalue": "'gata'",
     "output_type": "error",
     "traceback": [
      "\u001b[1;31m\u001b[0m",
      "\u001b[1;31mKeyError\u001b[0mTraceback (most recent call last)",
      "\u001b[1;32m<ipython-input-5-2b1497efad61>\u001b[0m in \u001b[0;36m<module>\u001b[1;34m()\u001b[0m\n\u001b[1;32m----> 1\u001b[1;33m \u001b[0mloc\u001b[0m\u001b[1;33m[\u001b[0m\u001b[1;34m'gata'\u001b[0m\u001b[1;33m]\u001b[0m\u001b[1;33m\u001b[0m\u001b[0m\n\u001b[0m",
      "\u001b[1;31mKeyError\u001b[0m: 'gata'"
     ]
    }
   ],
   "source": [
    "loc['gata']"
   ]
  },
  {
   "cell_type": "code",
   "execution_count": 6,
   "metadata": {},
   "outputs": [
    {
     "data": {
      "text/plain": [
       "[{u'admin_area': u'Veracruz',\n",
       "  u'country_code': u'MX',\n",
       "  u'country_name': u'M\\xe9xico',\n",
       "  u'feature_name': u'213',\n",
       "  u'locality': u'Xalapa Enr\\xedquez',\n",
       "  u'postal_code': u'91060',\n",
       "  u'sub_admin_area': u'Xalapa',\n",
       "  u'thoroughfare': u'Agust\\xedn Melgar'}]"
      ]
     },
     "execution_count": 6,
     "metadata": {},
     "output_type": "execute_result"
    }
   ],
   "source": [
    "#iniciar la localizacion \n",
    "droide.startLocating()\n",
    "loc = droide.readLocation().result\n",
    "if loc == {}:\n",
    "    loc = droide.getLastKnownLocation().result\n",
    "#agregar una linea para revisar que la antena ete encendida\n",
    "if loc != {}:\n",
    "    try:\n",
    "        n = loc['gps']\n",
    "    except KeyError:\n",
    "        n = loc['network']\n",
    "    la = n['latitude']\n",
    "    lo = n['longitude']\n",
    "    direccion = droide.geocode(la,lo).result\n",
    "\n",
    "#detener la informacion de la localizacion\n",
    "droide.stopLocating()\n",
    "#mostrar la informacion\n",
    "direccion"
   ]
  },
  {
   "cell_type": "code",
   "execution_count": 168,
   "metadata": {
    "collapsed": true
   },
   "outputs": [
    {
     "data": {
      "text/plain": [
       "{u'gps': None,\n",
       " u'network': {u'accuracy': 20,\n",
       "  u'altitude': 0,\n",
       "  u'bearing': 0,\n",
       "  u'latitude': 19.5197093,\n",
       "  u'longitude': -96.9155696,\n",
       "  u'provider': u'network',\n",
       "  u'speed': 0,\n",
       "  u'time': 1521312832751L},\n",
       " u'passive': {u'accuracy': 20,\n",
       "  u'altitude': 0,\n",
       "  u'bearing': 0,\n",
       "  u'latitude': 19.5197093,\n",
       "  u'longitude': -96.9155696,\n",
       "  u'provider': u'network',\n",
       "  u'speed': 0,\n",
       "  u'time': 1521312832751L}}"
      ]
     },
     "execution_count": 168,
     "metadata": {},
     "output_type": "execute_result"
    }
   ],
   "source": [
    "droide.getLastKnownLocation().result"
   ]
  },
  {
   "cell_type": "markdown",
   "metadata": {},
   "source": [
    "## El mismo ejemplo de localización pero Usando la cola de Eventos Event Queue"
   ]
  },
  {
   "cell_type": "code",
   "execution_count": 205,
   "metadata": {},
   "outputs": [
    {
     "name": "stdout",
     "output_type": "stream",
     "text": [
      "Comenzando a leer el gps ...\n"
     ]
    },
    {
     "data": {
      "text/plain": [
       "{u'data': {u'network': {u'accuracy': 20,\n",
       "   u'altitude': 0,\n",
       "   u'bearing': 0,\n",
       "   u'latitude': 19.5197093,\n",
       "   u'longitude': -96.9155696,\n",
       "   u'provider': u'network',\n",
       "   u'speed': 0,\n",
       "   u'time': 1521312526812L}},\n",
       " u'name': u'location',\n",
       " u'time': 1521312526893000L}"
      ]
     },
     "execution_count": 205,
     "metadata": {},
     "output_type": "execute_result"
    }
   ],
   "source": [
    "droide.startLocating()\n",
    "print \"Comenzando a leer el gps ...\"\n",
    "\n",
    "#esperando un evento\n",
    "evento = droide.eventWaitFor('location',10000).result\n",
    "evento"
   ]
  },
  {
   "cell_type": "code",
   "execution_count": 209,
   "metadata": {},
   "outputs": [
    {
     "name": "stdout",
     "output_type": "stream",
     "text": [
      "[{u'thoroughfare': u'Enrique C R\\xe9bsamen', u'locality': u'Xalapa Enr\\xedquez', u'sub_admin_area': u'Xalapa', u'admin_area': u'Veracruz', u'feature_name': u'62', u'country_code': u'MX', u'country_name': u'M\\xe9xico', u'postal_code': u'91060'}]\n"
     ]
    }
   ],
   "source": [
    "if evento['name']==\"location\":\n",
    "    try:\n",
    "        lat = evento['data']['gps']['latitude']\n",
    "        lon = evento['data']['gps']['longitude']\n",
    "    except KeyError:\n",
    "        lat = evento['data']['network']['latitude']\n",
    "        lon = evento['data']['network']['longitude']\n",
    "    direccion = droide.geocode(lat,lon).result\n",
    "#detener la informacion de la localizacion\n",
    "droide.stopLocating()\n",
    "#imprimir información\n",
    "print direccion"
   ]
  },
  {
   "cell_type": "markdown",
   "metadata": {},
   "source": [
    "## ejercicio buscar como mostrar la localizacion anterior en la aplicacion de mapas"
   ]
  },
  {
   "cell_type": "markdown",
   "metadata": {},
   "source": [
    "# Event Poll.."
   ]
  },
  {
   "cell_type": "code",
   "execution_count": 259,
   "metadata": {},
   "outputs": [],
   "source": [
    "!adb forward tcp:9999 tcp:2222"
   ]
  },
  {
   "cell_type": "code",
   "execution_count": 260,
   "metadata": {},
   "outputs": [],
   "source": [
    "droide = android.Android()"
   ]
  },
  {
   "cell_type": "code",
   "execution_count": 247,
   "metadata": {},
   "outputs": [
    {
     "data": {
      "text/plain": [
       "Result(id=7, result=False, error=None)"
      ]
     },
     "execution_count": 247,
     "metadata": {},
     "output_type": "execute_result"
    }
   ],
   "source": [
    "droide.toggleRingerSilentMode(False)"
   ]
  },
  {
   "cell_type": "code",
   "execution_count": 262,
   "metadata": {},
   "outputs": [
    {
     "ename": "AttributeError",
     "evalue": "'Result' object has no attribute 'e'",
     "output_type": "error",
     "traceback": [
      "\u001b[1;31m\u001b[0m",
      "\u001b[1;31mAttributeError\u001b[0mTraceback (most recent call last)",
      "\u001b[1;32m<ipython-input-262-1f0df7950cfe>\u001b[0m in \u001b[0;36m<module>\u001b[1;34m()\u001b[0m\n\u001b[1;32m----> 1\u001b[1;33m \u001b[0mdroide\u001b[0m\u001b[1;33m.\u001b[0m\u001b[0meventPoll\u001b[0m\u001b[1;33m(\u001b[0m\u001b[1;36m1\u001b[0m\u001b[1;33m)\u001b[0m\u001b[1;33m.\u001b[0m\u001b[0me\u001b[0m\u001b[1;33m.\u001b[0m\u001b[0mresult\u001b[0m\u001b[1;33m[\u001b[0m\u001b[1;36m0\u001b[0m\u001b[1;33m]\u001b[0m\u001b[1;33m[\u001b[0m\u001b[1;34m'data'\u001b[0m\u001b[1;33m]\u001b[0m\u001b[1;33m\u001b[0m\u001b[0m\n\u001b[0m\u001b[0;32m      2\u001b[0m \u001b[1;31m#e.result\u001b[0m\u001b[1;33m\u001b[0m\u001b[1;33m\u001b[0m\u001b[0m\n",
      "\u001b[1;31mAttributeError\u001b[0m: 'Result' object has no attribute 'e'"
     ]
    }
   ],
   "source": [
    "droide.eventPoll(1).e.result[0]['data']\n",
    "#e.result"
   ]
  },
  {
   "cell_type": "code",
   "execution_count": null,
   "metadata": {},
   "outputs": [],
   "source": []
  },
  {
   "cell_type": "code",
   "execution_count": 256,
   "metadata": {},
   "outputs": [
    {
     "ename": "error",
     "evalue": "[Errno 10053] Se ha anulado una conexión establecida por el software en su equipo host",
     "output_type": "error",
     "traceback": [
      "\u001b[1;31m\u001b[0m",
      "\u001b[1;31merror\u001b[0mTraceback (most recent call last)",
      "\u001b[1;32m<ipython-input-256-a30de7cffccb>\u001b[0m in \u001b[0;36m<module>\u001b[1;34m()\u001b[0m\n\u001b[0;32m      4\u001b[0m \u001b[0msilencio\u001b[0m \u001b[1;33m=\u001b[0m \u001b[0mFalse\u001b[0m\u001b[1;33m\u001b[0m\u001b[0m\n\u001b[0;32m      5\u001b[0m \u001b[1;32mwhile\u001b[0m \u001b[0mTrue\u001b[0m\u001b[1;33m:\u001b[0m\u001b[1;33m\u001b[0m\u001b[0m\n\u001b[1;32m----> 6\u001b[1;33m     \u001b[0me\u001b[0m \u001b[1;33m=\u001b[0m \u001b[0mdroide\u001b[0m\u001b[1;33m.\u001b[0m\u001b[0meventPoll\u001b[0m\u001b[1;33m(\u001b[0m\u001b[1;36m1\u001b[0m\u001b[1;33m)\u001b[0m\u001b[1;33m\u001b[0m\u001b[0m\n\u001b[0m\u001b[0;32m      7\u001b[0m     \u001b[0mabajo\u001b[0m \u001b[1;33m=\u001b[0m \u001b[0me\u001b[0m\u001b[1;33m.\u001b[0m\u001b[0mresult\u001b[0m \u001b[1;32mand\u001b[0m \u001b[1;34m' data'\u001b[0m \u001b[1;32min\u001b[0m \u001b[0me\u001b[0m\u001b[1;33m.\u001b[0m\u001b[0mresult\u001b[0m\u001b[1;33m[\u001b[0m\u001b[1;36m0\u001b[0m\u001b[1;33m]\u001b[0m \u001b[1;32mand\u001b[0m \u001b[0me\u001b[0m\u001b[1;33m.\u001b[0m\u001b[0mresult\u001b[0m\u001b[1;33m[\u001b[0m\u001b[1;36m0\u001b[0m\u001b[1;33m]\u001b[0m\u001b[1;33m[\u001b[0m\u001b[1;34m'data'\u001b[0m\u001b[1;33m]\u001b[0m\u001b[1;33m[\u001b[0m\u001b[1;34m'zforce'\u001b[0m\u001b[1;33m]\u001b[0m \u001b[1;32mand\u001b[0m \u001b[0me\u001b[0m\u001b[1;33m.\u001b[0m\u001b[0mresult\u001b[0m\u001b[1;33m[\u001b[0m\u001b[1;36m0\u001b[0m\u001b[1;33m]\u001b[0m\u001b[1;33m[\u001b[0m\u001b[1;34m'data'\u001b[0m\u001b[1;33m]\u001b[0m\u001b[1;33m[\u001b[0m\u001b[1;34m'zforce'\u001b[0m\u001b[1;33m]\u001b[0m \u001b[1;33m>\u001b[0m \u001b[1;36m5\u001b[0m\u001b[1;33m\u001b[0m\u001b[0m\n\u001b[0;32m      8\u001b[0m     \u001b[1;32mif\u001b[0m \u001b[0mabajo\u001b[0m \u001b[1;32mand\u001b[0m \u001b[1;32mnot\u001b[0m \u001b[0msilencio\u001b[0m\u001b[1;33m:\u001b[0m\u001b[1;33m\u001b[0m\u001b[0m\n",
      "\u001b[1;32mC:\\Users\\15-ac128la\\.ipython\\android.pyc\u001b[0m in \u001b[0;36mrpc_call\u001b[1;34m(*args)\u001b[0m\n\u001b[0;32m     56\u001b[0m   \u001b[1;32mdef\u001b[0m \u001b[0m__getattr__\u001b[0m\u001b[1;33m(\u001b[0m\u001b[0mself\u001b[0m\u001b[1;33m,\u001b[0m \u001b[0mname\u001b[0m\u001b[1;33m)\u001b[0m\u001b[1;33m:\u001b[0m\u001b[1;33m\u001b[0m\u001b[0m\n\u001b[0;32m     57\u001b[0m     \u001b[1;32mdef\u001b[0m \u001b[0mrpc_call\u001b[0m\u001b[1;33m(\u001b[0m\u001b[1;33m*\u001b[0m\u001b[0margs\u001b[0m\u001b[1;33m)\u001b[0m\u001b[1;33m:\u001b[0m\u001b[1;33m\u001b[0m\u001b[0m\n\u001b[1;32m---> 58\u001b[1;33m       \u001b[1;32mreturn\u001b[0m \u001b[0mself\u001b[0m\u001b[1;33m.\u001b[0m\u001b[0m_rpc\u001b[0m\u001b[1;33m(\u001b[0m\u001b[0mname\u001b[0m\u001b[1;33m,\u001b[0m \u001b[1;33m*\u001b[0m\u001b[0margs\u001b[0m\u001b[1;33m)\u001b[0m\u001b[1;33m\u001b[0m\u001b[0m\n\u001b[0m\u001b[0;32m     59\u001b[0m     \u001b[1;32mreturn\u001b[0m \u001b[0mrpc_call\u001b[0m\u001b[1;33m\u001b[0m\u001b[0m\n",
      "\u001b[1;32mC:\\Users\\15-ac128la\\.ipython\\android.pyc\u001b[0m in \u001b[0;36m_rpc\u001b[1;34m(self, method, *args)\u001b[0m\n\u001b[0;32m     45\u001b[0m     \u001b[0mself\u001b[0m\u001b[1;33m.\u001b[0m\u001b[0mclient\u001b[0m\u001b[1;33m.\u001b[0m\u001b[0mwrite\u001b[0m\u001b[1;33m(\u001b[0m\u001b[0mrequest\u001b[0m\u001b[1;33m+\u001b[0m\u001b[1;34m'\\n'\u001b[0m\u001b[1;33m)\u001b[0m\u001b[1;33m\u001b[0m\u001b[0m\n\u001b[0;32m     46\u001b[0m     \u001b[0mself\u001b[0m\u001b[1;33m.\u001b[0m\u001b[0mclient\u001b[0m\u001b[1;33m.\u001b[0m\u001b[0mflush\u001b[0m\u001b[1;33m(\u001b[0m\u001b[1;33m)\u001b[0m\u001b[1;33m\u001b[0m\u001b[0m\n\u001b[1;32m---> 47\u001b[1;33m     \u001b[0mresponse\u001b[0m \u001b[1;33m=\u001b[0m \u001b[0mself\u001b[0m\u001b[1;33m.\u001b[0m\u001b[0mclient\u001b[0m\u001b[1;33m.\u001b[0m\u001b[0mreadline\u001b[0m\u001b[1;33m(\u001b[0m\u001b[1;33m)\u001b[0m\u001b[1;33m\u001b[0m\u001b[0m\n\u001b[0m\u001b[0;32m     48\u001b[0m     \u001b[0mself\u001b[0m\u001b[1;33m.\u001b[0m\u001b[0mid\u001b[0m \u001b[1;33m+=\u001b[0m \u001b[1;36m1\u001b[0m\u001b[1;33m\u001b[0m\u001b[0m\n\u001b[0;32m     49\u001b[0m     \u001b[0mresult\u001b[0m \u001b[1;33m=\u001b[0m \u001b[0mjson\u001b[0m\u001b[1;33m.\u001b[0m\u001b[0mloads\u001b[0m\u001b[1;33m(\u001b[0m\u001b[0mresponse\u001b[0m\u001b[1;33m)\u001b[0m\u001b[1;33m\u001b[0m\u001b[0m\n",
      "\u001b[1;32mC:\\Users\\15-ac128la\\Anaconda2\\lib\\socket.pyc\u001b[0m in \u001b[0;36mreadline\u001b[1;34m(self, size)\u001b[0m\n\u001b[0;32m    449\u001b[0m             \u001b[1;32mwhile\u001b[0m \u001b[0mTrue\u001b[0m\u001b[1;33m:\u001b[0m\u001b[1;33m\u001b[0m\u001b[0m\n\u001b[0;32m    450\u001b[0m                 \u001b[1;32mtry\u001b[0m\u001b[1;33m:\u001b[0m\u001b[1;33m\u001b[0m\u001b[0m\n\u001b[1;32m--> 451\u001b[1;33m                     \u001b[0mdata\u001b[0m \u001b[1;33m=\u001b[0m \u001b[0mself\u001b[0m\u001b[1;33m.\u001b[0m\u001b[0m_sock\u001b[0m\u001b[1;33m.\u001b[0m\u001b[0mrecv\u001b[0m\u001b[1;33m(\u001b[0m\u001b[0mself\u001b[0m\u001b[1;33m.\u001b[0m\u001b[0m_rbufsize\u001b[0m\u001b[1;33m)\u001b[0m\u001b[1;33m\u001b[0m\u001b[0m\n\u001b[0m\u001b[0;32m    452\u001b[0m                 \u001b[1;32mexcept\u001b[0m \u001b[0merror\u001b[0m\u001b[1;33m,\u001b[0m \u001b[0me\u001b[0m\u001b[1;33m:\u001b[0m\u001b[1;33m\u001b[0m\u001b[0m\n\u001b[0;32m    453\u001b[0m                     \u001b[1;32mif\u001b[0m \u001b[0me\u001b[0m\u001b[1;33m.\u001b[0m\u001b[0margs\u001b[0m\u001b[1;33m[\u001b[0m\u001b[1;36m0\u001b[0m\u001b[1;33m]\u001b[0m \u001b[1;33m==\u001b[0m \u001b[0mEINTR\u001b[0m\u001b[1;33m:\u001b[0m\u001b[1;33m\u001b[0m\u001b[0m\n",
      "\u001b[1;31merror\u001b[0m: [Errno 10053] Se ha anulado una conexión establecida por el software en su equipo host"
     ]
    }
   ],
   "source": [
    "droide.startSensingTimed(1,5)\n",
    "time.sleep(1)\n",
    "\n",
    "silencio = False\n",
    "while True:\n",
    "    e = droide.eventPoll(1)\n",
    "    abajo = e.result and ' data' in e.result[0] and e.result[0]['data']['zforce'] and e.result[0]['data']['zforce'] > 5\n",
    "    if abajo and not silencio:\n",
    "        droide.vibrate(100)\n",
    "        doride.toggleRingerSilentMode(True)\n",
    "        silencio = True\n",
    "    elif not abajo and silencio:\n",
    "        droide.toggleRingerSilentMode(False)\n",
    "        silencio = False\n",
    "    time.sleep(5)"
   ]
  },
  {
   "cell_type": "code",
   "execution_count": 257,
   "metadata": {},
   "outputs": [
    {
     "data": {
      "text/plain": [
       "False"
      ]
     },
     "execution_count": 257,
     "metadata": {},
     "output_type": "execute_result"
    }
   ],
   "source": [
    "silencio"
   ]
  },
  {
   "cell_type": "code",
   "execution_count": 215,
   "metadata": {},
   "outputs": [
    {
     "name": "stdout",
     "output_type": "stream",
     "text": [
      "java.lang.UnknownError: Attempt to invoke virtual method 'void android.content.Intent.prepareToLeaveProcess(android.content.Context)' on a null object reference\n"
     ]
    }
   ],
   "source": [
    "droide.startSensing()\n",
    "time.sleep(1)"
   ]
  },
  {
   "cell_type": "code",
   "execution_count": 216,
   "metadata": {},
   "outputs": [],
   "source": [
    "droide.eventClearBuffer()\n",
    "time.sleep(1)\n",
    "droide.readSensors().result"
   ]
  },
  {
   "cell_type": "code",
   "execution_count": 218,
   "metadata": {},
   "outputs": [
    {
     "data": {
      "text/plain": [
       "[]"
      ]
     },
     "execution_count": 218,
     "metadata": {},
     "output_type": "execute_result"
    }
   ],
   "source": [
    "droide.eventPoll(1).result"
   ]
  }
 ],
 "metadata": {
  "kernelspec": {
   "display_name": "Python 2",
   "language": "python",
   "name": "python2"
  },
  "language_info": {
   "codemirror_mode": {
    "name": "ipython",
    "version": 2
   },
   "file_extension": ".py",
   "mimetype": "text/x-python",
   "name": "python",
   "nbconvert_exporter": "python",
   "pygments_lexer": "ipython2",
   "version": "2.7.14"
  }
 },
 "nbformat": 4,
 "nbformat_minor": 2
}
